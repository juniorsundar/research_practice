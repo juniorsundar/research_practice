{
 "cells": [
  {
   "cell_type": "markdown",
   "metadata": {},
   "source": [
    "### PDF Display"
   ]
  },
  {
   "cell_type": "code",
   "execution_count": 1,
   "metadata": {},
   "outputs": [],
   "source": [
    "class PDF(object):\n",
    "  def __init__(self, pdf, size=(200,200)):\n",
    "    self.pdf = pdf\n",
    "    self.size = size\n",
    "\n",
    "  def _repr_html_(self):\n",
    "    return '<iframe src={0} width={1[0]} height={1[1]}></iframe>'.format(self.pdf, self.size)\n",
    "\n",
    "  def _repr_latex_(self):\n",
    "    return r'\\includegraphics[width=1.0\\textwidth]{{{0}}}'.format(self.pdf)"
   ]
  },
  {
   "cell_type": "markdown",
   "metadata": {},
   "source": [
    "<h1><center>Single Robot</center></h1>"
   ]
  },
  {
   "cell_type": "markdown",
   "metadata": {},
   "source": [
    "## Specification in Omega\n",
    "Following is the result of writing the specifications using the omega toolbox."
   ]
  },
  {
   "cell_type": "code",
   "execution_count": 2,
   "metadata": {},
   "outputs": [],
   "source": [
    "from omega.games import gr1\n",
    "from omega.games import enumeration as enum\n",
    "from omega.symbolic import temporal as trl\n",
    "from omega.games.enumeration import action_to_steps\n",
    "from omega.symbolic import enumeration as sym_enum\n",
    "import networkx as nx"
   ]
  },
  {
   "cell_type": "code",
   "execution_count": 3,
   "metadata": {},
   "outputs": [],
   "source": [
    "aut = trl.Automaton()\n",
    "MAX_ROOMS = 2\n",
    "aut.declare_variables(active=(1,MAX_ROOMS), home = (0,1),known_room=(0, MAX_ROOMS), pos=(0, MAX_ROOMS), known=(0,1))\n",
    "aut.varlist['env']=['active']\n",
    "aut.varlist['sys']=['known_room','known','pos','home']\n",
    "aut.prime_varlists()"
   ]
  },
  {
   "cell_type": "code",
   "execution_count": 4,
   "metadata": {},
   "outputs": [],
   "source": [
    "aut.init['env'] = '''\n",
    "    /\\ active = 1\n",
    "    '''\n",
    "\n",
    "aut.action['env'] = '''\n",
    "    /\\ active \\in 1..2\n",
    "    /\\ active' \\in 1..2\n",
    "    /\\ (active' = active \\/ active' != active)\n",
    "'''"
   ]
  },
  {
   "cell_type": "code",
   "execution_count": 5,
   "metadata": {},
   "outputs": [],
   "source": [
    "aut.init['sys'] = '''\n",
    "    /\\ pos = 0\n",
    "    /\\ home = 1\n",
    "    /\\ known_room = 0\n",
    "    /\\ known = 0\n",
    "    '''\n",
    "\n",
    "aut.action['sys'] = '''\n",
    "    /\\ (home = 1 => home' = 0)\n",
    "    /\\ (home = 1 <=> pos = 0)\n",
    "    /\\ (~(home = 0 /\\ known' = 1) \\/ home' = 1)\n",
    "    /\\ (pos' != pos)\n",
    "\n",
    "    /\\ (~(home = 0 /\\ pos = 1 /\\ active = 1) \\/ (known' = 1 /\\ known_room' = 1))\n",
    "    /\\ (~(home = 0 /\\ pos = 2 /\\ active = 2) \\/ (known' = 1 /\\ known_room' = 2))\n",
    "\n",
    "    /\\ (~(home = 1 /\\ known = 1 /\\ known_room = 1) \\/ (known' = 1 /\\ known_room' = 1 /\\ pos' = 1))\n",
    "    /\\ (~(home = 1 /\\ known = 1 /\\ known_room = 2) \\/ (known' = 1 /\\ known_room' = 2 /\\ pos' = 2))\n",
    "\n",
    "    /\\ (~(home = 0 /\\ (pos = 2 /\\ active != 2)) \\/ (known' = 0 /\\ known_room' = 0 /\\ pos' = 1))\n",
    "    /\\ (~(home = 0 /\\ (pos = 1 /\\ active != 1)) \\/ (known' = 0 /\\ known_room' = 0 /\\ pos' = 2))\n",
    "    '''"
   ]
  },
  {
   "cell_type": "code",
   "execution_count": 6,
   "metadata": {},
   "outputs": [],
   "source": [
    "aut.win['<>[]'] = aut.bdds_from('active=1 \\/ active=2')\n",
    "aut.win['[]<>'] = aut.bdds_from('active=1 \\/ active=2')"
   ]
  },
  {
   "cell_type": "code",
   "execution_count": 7,
   "metadata": {},
   "outputs": [
    {
     "data": {
      "text/html": [
       "<iframe src=game_states_omega.pdf width=900 height=900></iframe>"
      ],
      "text/latex": [
       "\\includegraphics[width=1.0\\textwidth]{game_states_omega.pdf}"
      ],
      "text/plain": [
       "<__main__.PDF at 0x7f2f638cee50>"
      ]
     },
     "execution_count": 7,
     "metadata": {},
     "output_type": "execute_result"
    }
   ],
   "source": [
    "aut.qinit = '\\E \\A'\n",
    "aut.moore = True\n",
    "aut.plus_one = True\n",
    "\n",
    "z, yij, xijk = gr1.solve_streett_game(aut)\n",
    "gr1.make_streett_transducer(z, yij, xijk, aut)\n",
    "aut.varlist['sys'].append('_goal')\n",
    "aut.prime_varlists()\n",
    "\n",
    "g = enum.action_to_steps(aut, 'env', 'impl', qinit=aut.qinit)\n",
    "h, _ = sym_enum._format_nx(g)\n",
    "pd = nx.drawing.nx_pydot.to_pydot(h)\n",
    "pd.write_pdf('game_states_omega.pdf')\n",
    "PDF('game_states_omega.pdf',size=(900,900))"
   ]
  },
  {
   "cell_type": "markdown",
   "metadata": {},
   "source": [
    "## Specification in TuLiP\n",
    "Following is the result of writing the specifications using the TuLiP toolbox. It is scalable w.r.t. to number of rooms."
   ]
  },
  {
   "cell_type": "code",
   "execution_count": 8,
   "metadata": {},
   "outputs": [
    {
     "name": "stderr",
     "output_type": "stream",
     "text": [
      "`polytope` failed to import `cvxopt.glpk`.\n",
      "will use `scipy.optimize.linprog`\n"
     ]
    }
   ],
   "source": [
    "from tulip import transys, spec, synth\n",
    "from tulip.transys import machines"
   ]
  },
  {
   "cell_type": "code",
   "execution_count": 9,
   "metadata": {},
   "outputs": [],
   "source": [
    "ROOMS = 2\n",
    "\n",
    "env_vars = set()\n",
    "env_init = set()\n",
    "env_safe = set()\n",
    "env_prog = set()\n",
    "\n",
    "if ROOMS>2:\n",
    "    text = \"\"\n",
    "    for i in range(1,ROOMS+1):\n",
    "        env_vars.add(\"active{roomN}\".format(roomN=i))\n",
    "        \n",
    "        if i==1:\n",
    "            env_init.add(\"active{roomN}\".format(roomN=i))\n",
    "        else:\n",
    "            env_init.add(\"!active{roomN}\".format(roomN=i))\n",
    "\n",
    "        ands = ' && '\n",
    "        text = text + \"( active{roomN} && \".format(roomN=i)\n",
    "        for j in range(1,ROOMS+1):\n",
    "            if j==i:\n",
    "                continue\n",
    "            text = text + \"!active{roomN}\".format(roomN=j)\n",
    "            text = text + ands\n",
    "        text = text[0:-4] + \" ) || \"\n",
    "        env_prog.add(\"active{roomN}\".format(roomN=i))\n",
    "    env_safe.add(text[0:-4])\n",
    "else:\n",
    "    env_vars = {'active1','active2'}\n",
    "    env_init = {'active1','!active2'}\n",
    "    env_safe = {'active1 <-> !active2'}\n",
    "    env_prog = {'active1','active2'}"
   ]
  },
  {
   "cell_type": "code",
   "execution_count": 10,
   "metadata": {},
   "outputs": [],
   "source": [
    "sys_vars = {'room':(0,ROOMS),'known_room':(0,ROOMS),'home':\"boolean\",'known':\"boolean\"}\n",
    "sys_init = {'home', 'room = 0', '!known', 'known_room = 0'}\n",
    "sys_safe = {\n",
    "    'home -> X (!home)',\n",
    "    'home <-> room = 0',\n",
    "    '!home && X known -> X home'\n",
    "}\n",
    "\n",
    "for i in range(1,ROOMS+1):\n",
    "    line1 = '!home && room = {roomN} && active{roomN} -> X (known && known_room = {roomN})'.format(roomN=i)\n",
    "    line2 = 'home && known && known_room = {roomN} -> X (known && known_room = {roomN} && room = {roomN})'.format(roomN=i)\n",
    "    if i<ROOMS:\n",
    "        line3 = '!home && (room = {roomN} && !active{roomN}) -> X (!known && known_room = 0 && room = {NroomN})'.format(roomN=i,NroomN=i+1)\n",
    "    else:\n",
    "        line3 = '!home && (room = {roomN} && !active{roomN}) -> X (!known && known_room = 0 && room = {NroomN})'.format(roomN=i,NroomN=1)\n",
    "    sys_safe.add(line1)\n",
    "    sys_safe.add(line2)\n",
    "    sys_safe.add(line3)\n",
    "\n",
    "sys_prog = set()"
   ]
  },
  {
   "cell_type": "code",
   "execution_count": 11,
   "metadata": {
    "scrolled": false
   },
   "outputs": [
    {
     "name": "stdout",
     "output_type": "stream",
     "text": [
      "removed 12 nodes from 26 total\n"
     ]
    },
    {
     "data": {
      "text/html": [
       "<iframe src=game_states_tulip.pdf width=900 height=900></iframe>"
      ],
      "text/latex": [
       "\\includegraphics[width=1.0\\textwidth]{game_states_tulip.pdf}"
      ],
      "text/plain": [
       "<__main__.PDF at 0x7f2f63b54fd0>"
      ]
     },
     "execution_count": 11,
     "metadata": {},
     "output_type": "execute_result"
    }
   ],
   "source": [
    "specs = spec.GRSpec(env_vars = env_vars, env_init = env_init, env_safety = env_safe, env_prog = env_prog,\n",
    "                    sys_vars = sys_vars, sys_init = sys_init, sys_safety = sys_safe, sys_prog = sys_prog)\n",
    "\n",
    "# print(specs.dumps())\n",
    "\n",
    "specs.moore = True\n",
    "specs.qinit = '\\E \\A'  # i.e., \"there exist sys_vars: forall sys_vars\"\n",
    "\n",
    "strategy = synth.synthesize(specs)\n",
    "assert strategy is not None, 'unrealizable'\n",
    "if not strategy.save('game_states_tulip.pdf'):\n",
    "    print('Done')\n",
    "#     print(strategy)\n",
    "\n",
    "# simulate\n",
    "# print(strategy)\n",
    "# machines.random_run(strategy, N=10)\n",
    "PDF('game_states_tulip.pdf',size=(900,900))"
   ]
  },
  {
   "cell_type": "markdown",
   "metadata": {},
   "source": [
    "## Simulations"
   ]
  },
  {
   "cell_type": "code",
   "execution_count": 12,
   "metadata": {
    "scrolled": true
   },
   "outputs": [
    {
     "data": {
      "image/png": "[encoded data removed]",
      "text/plain": [
       "<Figure size 432x288 with 1 Axes>"
      ]
     },
     "metadata": {
      "needs_background": "light"
     },
     "output_type": "display_data"
    },
    {
     "name": "stdout",
     "output_type": "stream",
     "text": [
      "Environment's next step is: 0\n",
      "Robot goes to: 0\n"
     ]
    }
   ],
   "source": [
    "import matplotlib.pyplot as plt\n",
    "from IPython.display import clear_output\n",
    "import time\n",
    "\n",
    "active = 1\n",
    "activeR = -1\n",
    "room = 0\n",
    "roomR = 0\n",
    "current = 0\n",
    "run = True  #set active == 0 to exit loop\n",
    "while run:\n",
    "    plt.axis([-2,2,-3,4])\n",
    "    plt.plot([-.25,.25,.25,-.25,-.25],[-2,-2,2,2,-2],c='red')\n",
    "    plt.plot([-1.25,-.75,-.75,-1.25,-1.25],[-1,-1,1,1,-1],c=(0,0.5,1))\n",
    "    plt.plot([.75,1.25,1.25,.75,.75],[-1,-1,1,1,-1],c=(0.5,1,0))\n",
    "\n",
    "    # environment\n",
    "    plt.scatter([activeR],[0.5],c='green')\n",
    "    # system\n",
    "    plt.scatter([roomR],[-.5],c='blue')\n",
    "    plt.legend(['Home','Room 1','Room 2','Env. Player','Robot'])\n",
    "    plt.show()\n",
    "    # environment input\n",
    "    active = int(input(\"Environment's next step is: \"))\n",
    "    plt.close()\n",
    "    successors = list(g._succ[current].keys())\n",
    "    \n",
    "    if active == 1:\n",
    "        activeR = -1\n",
    "        for suc in successors:\n",
    "            if g._node.get(suc)['active'] == 1:\n",
    "                current = suc\n",
    "    elif active == 2:\n",
    "        activeR = 1\n",
    "        for suc in successors:\n",
    "            if g._node.get(suc)['active'] == 2:\n",
    "                current = suc\n",
    "    elif active == 0:   #set active == 0 to exit loop\n",
    "        run = False\n",
    "    room = g._node.get(current)['pos']\n",
    "    print(\"Robot goes to: {}\".format(room))\n",
    "    if room == 0:\n",
    "        roomR = 0\n",
    "    elif room == 1:\n",
    "        roomR = -1\n",
    "    elif room == 2:\n",
    "        roomR = 1\n",
    "    time.sleep(3)\n",
    "    clear_output(wait=True)"
   ]
  },
  {
   "cell_type": "markdown",
   "metadata": {},
   "source": [
    "<h1><center>Dual Robots</center></h1>"
   ]
  },
  {
   "cell_type": "markdown",
   "metadata": {},
   "source": [
    "## Specification in Omega\n",
    "Following is the result of writing the specifications using the omega toolbox."
   ]
  },
  {
   "cell_type": "code",
   "execution_count": 13,
   "metadata": {},
   "outputs": [],
   "source": [
    "from omega.games import gr1\n",
    "from omega.games import enumeration as enum\n",
    "from omega.symbolic import temporal as trl\n",
    "from omega.games.enumeration import action_to_steps\n",
    "from omega.symbolic import enumeration as sym_enum\n",
    "import networkx as nx\n",
    "import matplotlib.pyplot as plt"
   ]
  },
  {
   "cell_type": "code",
   "execution_count": 14,
   "metadata": {},
   "outputs": [],
   "source": [
    "aut = trl.Automaton()\n",
    "MAX_ROOMS = 2\n",
    "aut.declare_variables(active=(1,MAX_ROOMS), \n",
    "                      home1 = (0,1), known_room1 = (0, MAX_ROOMS), pos1 = (0, MAX_ROOMS), known1 = (0,1),\n",
    "                      home2 = (0,1), known_room2 = (0, MAX_ROOMS), pos2 = (0, MAX_ROOMS), known2 = (0,1),\n",
    "                      turn = (1,3))\n",
    "aut.varlist['env']=['active','turn']\n",
    "aut.varlist['sys']=['known_room1','known1','pos1','home1','known_room2','known2','pos2','home2']\n",
    "aut.prime_varlists()"
   ]
  },
  {
   "cell_type": "code",
   "execution_count": 15,
   "metadata": {},
   "outputs": [],
   "source": [
    "specs = '''\n",
    "    UNCHANGED_env == (active' = active)\n",
    "    \n",
    "    UNCHANGED_sys1 == \n",
    "    /\\ home1' = home1\n",
    "    /\\ pos1' = pos1\n",
    "    /\\ known1' = known1\n",
    "    /\\ known_room1' = known_room1\n",
    "    \n",
    "    UNCHANGED_sys2 == \n",
    "    /\\ home2' = home2\n",
    "    /\\ pos2' = pos2\n",
    "    /\\ known2' = known2\n",
    "    /\\ known_room2' = known_room2\n",
    "    \n",
    "    envInit == active = 1 /\\ turn = 1\n",
    "    \n",
    "    sys1Init ==\n",
    "    /\\ pos1 = 0\n",
    "    /\\ home1 = 1\n",
    "    /\\ known_room1 = 0\n",
    "    /\\ known1 = 0\n",
    "    \n",
    "    sys2Init ==\n",
    "    /\\ pos2 = 0\n",
    "    /\\ home2 = 1\n",
    "    /\\ known_room2 = 0\n",
    "    /\\ known2 = 0\n",
    "    \n",
    "    envNext == \n",
    "    /\\ (active \\in 1..2 /\\ active' \\in 1..2)\n",
    "    /\\ (turn \\in 1..3 /\\ turn' \\in 1..3)\n",
    "    /\\ (turn' != turn)\n",
    "    /\\ (turn = 1 => turn' = 2)\n",
    "    /\\ (turn = 2 => (turn' = 3 /\\ UNCHANGED_env))\n",
    "    /\\ (turn = 3 => (turn' = 1 /\\ UNCHANGED_env))\n",
    "\n",
    "    sys1Step ==\n",
    "    /\\ (home1 = 1 => home1' = 0)\n",
    "    /\\ (~(home1 = 0 /\\ known1' = 1) \\/ home1' = 1)\n",
    "    /\\ (home1 = 1 <=> pos1 = 0)\n",
    "    /\\ (pos1' != pos1)\n",
    "    /\\ (~(home1 = 0 /\\ pos1 = 1 /\\ active = 1) \\/ (known1' = 1 /\\ known_room1' = 1))\n",
    "    /\\ (~(home1 = 0 /\\ pos1 = 2 /\\ active = 2) \\/ (known1' = 1 /\\ known_room1' = 2))\n",
    "    /\\ (~(home1 = 1 /\\ known1 = 1 /\\ known_room1 = 1) \\/ (known1' = 1 /\\ known_room1' = 1 /\\ pos1' = 1))\n",
    "    /\\ (~(home1 = 1 /\\ known1 = 1 /\\ known_room1 = 2) \\/ (known1' = 1 /\\ known_room1' = 2 /\\ pos1' = 2))\n",
    "    /\\ (~(home1 = 0 /\\ (pos1 = 2 /\\ active != 2)) \\/ (known1' = 0 /\\ known_room1' = 0 /\\ pos1' = 1))\n",
    "    /\\ (~(home1 = 0 /\\ (pos1 = 1 /\\ active != 1)) \\/ (known1' = 0 /\\ known_room1' = 0 /\\ pos1' = 2))\n",
    "\n",
    "    sys1Next ==\n",
    "    /\\ (turn = 2 => sys1Step)\n",
    "    /\\ (turn != 2 => UNCHANGED_sys1)\n",
    "    \n",
    "    sys2Step == \n",
    "    /\\ (home2 = 1 => home2' = 0)\n",
    "    /\\ (home2 = 1 <=> pos2 = 0)\n",
    "    /\\ (~(home2 = 0 /\\ known2' = 1) \\/ home2' = 1)\n",
    "    /\\ (pos2' != pos2)\n",
    "    /\\ (~(home2 = 0 /\\ pos2 = 1 /\\ active = 1) \\/ (known2' = 1 /\\ known_room2' = 1))\n",
    "    /\\ (~(home2 = 0 /\\ pos2 = 2 /\\ active = 2) \\/ (known2' = 1 /\\ known_room2' = 2))\n",
    "    /\\ (~(home2 = 1 /\\ known2 = 1 /\\ known_room2 = 1) \\/ (known2' = 1 /\\ known_room2' = 1 /\\ pos2' = 1))\n",
    "    /\\ (~(home2 = 1 /\\ known2 = 1 /\\ known_room2 = 2) \\/ (known2' = 1 /\\ known_room2' = 2 /\\ pos2' = 2))\n",
    "    /\\ (~(home2 = 0 /\\ (pos2 = 2 /\\ active != 2)) \\/ (known2' = 0 /\\ known_room2' = 0 /\\ pos2' = 1))\n",
    "    /\\ (~(home2 = 0 /\\ (pos2 = 1 /\\ active != 1)) \\/ (known2' = 0 /\\ known_room2' = 0 /\\ pos2' = 2))\n",
    "  \n",
    "    sys2Next ==\n",
    "    /\\ (turn = 3 => sys2Step)\n",
    "    /\\ (turn != 3 => UNCHANGED_sys2)\n",
    "\n",
    "    environmentInit == envInit\n",
    "    environmentNext == envNext\n",
    "    sysInit == sys1Init /\\ sys2Init\n",
    "    sysNext == sys1Next /\\ sys2Next\n",
    "'''"
   ]
  },
  {
   "cell_type": "code",
   "execution_count": 16,
   "metadata": {},
   "outputs": [],
   "source": [
    "aut.define(specs)\n",
    "aut.init.update(\n",
    "    env='envInit',\n",
    "    sys='sysInit')\n",
    "aut.action.update(\n",
    "    env='envNext',\n",
    "    sys='sysNext')\n",
    "aut.win['<>[]'] = aut.bdds_from('turn = 1','turn=2','turn=3')\n",
    "aut.win['[]<>'] = aut.bdds_from('TRUE')"
   ]
  },
  {
   "cell_type": "code",
   "execution_count": 17,
   "metadata": {},
   "outputs": [
    {
     "data": {
      "text/html": [
       "<iframe src=dual_game_states_omega.pdf width=900 height=900></iframe>"
      ],
      "text/latex": [
       "\\includegraphics[width=1.0\\textwidth]{dual_game_states_omega.pdf}"
      ],
      "text/plain": [
       "<__main__.PDF at 0x7f2f77039f70>"
      ]
     },
     "execution_count": 17,
     "metadata": {},
     "output_type": "execute_result"
    }
   ],
   "source": [
    "aut.qinit = '\\E \\A'\n",
    "aut.moore = True\n",
    "aut.plus_one = True\n",
    "\n",
    "z, yij, xijk = gr1.solve_streett_game(aut)\n",
    "gr1.make_streett_transducer(z, yij, xijk, aut)\n",
    "aut.varlist['sys'].append('_goal')\n",
    "aut.prime_varlists()\n",
    "# enumerate\n",
    "g = enum.action_to_steps(aut, 'env', 'impl', qinit=aut.qinit)\n",
    "h, _ = sym_enum._format_nx(g)\n",
    "pd = nx.drawing.nx_pydot.to_pydot(h)\n",
    "pd.write_pdf('dual_game_states_omega.pdf')\n",
    "PDF('dual_game_states_omega.pdf',size=(900,900))"
   ]
  },
  {
   "cell_type": "markdown",
   "metadata": {},
   "source": [
    "## Simulations"
   ]
  },
  {
   "cell_type": "code",
   "execution_count": 21,
   "metadata": {},
   "outputs": [
    {
     "data": {
      "image/png": "[encoded data removed]",
      "text/plain": [
       "<Figure size 432x288 with 1 Axes>"
      ]
     },
     "metadata": {
      "needs_background": "light"
     },
     "output_type": "display_data"
    },
    {
     "name": "stdout",
     "output_type": "stream",
     "text": [
      "turn: 1\n",
      "Environment's next step is: 0\n",
      "Robot 1 in room: 2\n",
      "Robot 2 in room: 2\n"
     ]
    }
   ],
   "source": [
    "import matplotlib.pyplot as plt\n",
    "from IPython.display import clear_output\n",
    "import time\n",
    "\n",
    "turn = 1\n",
    "node = 0\n",
    "active = 1\n",
    "activeR = -1\n",
    "pos = [0,0]\n",
    "posR = [0,0]\n",
    "    \n",
    "run = True  #set active == 0 to exit loop\n",
    "while run:\n",
    "    plt.axis([-2,2,-3,4])\n",
    "    plt.plot([-.25,.25,.25,-.25,-.25],[-2,-2,2,2,-2],c='red')\n",
    "    plt.plot([-1.25,-.75,-.75,-1.25,-1.25],[-1,-1,1,1,-1],c=(0,0.5,1))\n",
    "    plt.plot([.75,1.25,1.25,.75,.75],[-1,-1,1,1,-1],c=(0.5,1,0))\n",
    "\n",
    "    # environment\n",
    "    plt.scatter([activeR],[0.5],c='green')\n",
    "    # system\n",
    "    for i in range(len(posR)):\n",
    "        plt.scatter(posR[i],[0-.2*i],c='blue')\n",
    "    plt.legend(['Home','Room 1','Room 2','Env. Player'])\n",
    "    plt.show()\n",
    "\n",
    "    turn = g._node.get(node)['turn']\n",
    "    print(\"turn: {}\".format(turn))\n",
    "    \n",
    "    if turn == 1:\n",
    "        active = int(input(\"Environment's next step is: \"))\n",
    "        successors = list(g._succ[node].keys())\n",
    "        if active == 1:\n",
    "            activeR = -1\n",
    "            for suc in successors:\n",
    "                if g._node.get(suc)['active'] == 1:\n",
    "                    node = suc\n",
    "        elif active == 2:\n",
    "            activeR = 1\n",
    "            for suc in successors:\n",
    "                if g._node.get(suc)['active'] == 2:\n",
    "                    node = suc\n",
    "        elif active == 0:   #set active == 0 to exit loop\n",
    "            run = False\n",
    "    plt.close()\n",
    "    \n",
    "\n",
    "    if turn == 2:\n",
    "        temp = list(g._succ[node].keys())\n",
    "        node = temp[0]\n",
    "        pos[0] = int(g._node.get(node)['pos1'])\n",
    "        print(\"Environment in room: {}\".format(active))\n",
    "    elif turn == 3:\n",
    "        temp = list(g._succ[node].keys())\n",
    "        node = temp[0]\n",
    "        pos[1] = int(g._node.get(node)['pos2'])\n",
    "        print(\"Environment in room: {}\".format(active))\n",
    "\n",
    "    print(\"Robot 1 in room: {}\".format(pos[0]))\n",
    "    print(\"Robot 2 in room: {}\".format(pos[1]))\n",
    "    \n",
    "    for i in range(len(pos)):\n",
    "        if pos[i] == 0:\n",
    "            posR[i] = 0\n",
    "        elif pos[i] == 1:\n",
    "            posR[i] = -1\n",
    "        elif pos[i] == 2:\n",
    "            posR[i] = 1\n",
    "    time.sleep(2)\n",
    "    clear_output(wait=True)"
   ]
  }
 ],
 "metadata": {
  "kernelspec": {
   "display_name": "Python 3.8.3 64-bit ('aria': conda)",
   "language": "python",
   "name": "python38364bitariaconda016bd46555c24daa8829e25701e572b2"
  },
  "language_info": {
   "codemirror_mode": {
    "name": "ipython",
    "version": 3
   },
   "file_extension": ".py",
   "mimetype": "text/x-python",
   "name": "python",
   "nbconvert_exporter": "python",
   "pygments_lexer": "ipython3",
   "version": "3.8.3"
  }
 },
 "nbformat": 4,
 "nbformat_minor": 4
}
