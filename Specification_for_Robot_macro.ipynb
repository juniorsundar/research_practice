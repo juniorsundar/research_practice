{
 "cells": [
  {
   "cell_type": "markdown",
   "metadata": {},
   "source": [
    "### PDF Display"
   ]
  },
  {
   "cell_type": "code",
   "execution_count": 1,
   "metadata": {},
   "outputs": [],
   "source": [
    "class PDF(object):\n",
    "  def __init__(self, pdf, size=(200,200)):\n",
    "    self.pdf = pdf\n",
    "    self.size = size\n",
    "\n",
    "  def _repr_html_(self):\n",
    "    return '<iframe src={0} width={1[0]} height={1[1]}></iframe>'.format(self.pdf, self.size)\n",
    "\n",
    "  def _repr_latex_(self):\n",
    "    return r'\\includegraphics[width=1.0\\textwidth]{{{0}}}'.format(self.pdf)"
   ]
  },
  {
   "cell_type": "markdown",
   "metadata": {},
   "source": [
    "<h1><center>Robot Swarm with Single High-Level Specification</center></h1>"
   ]
  },
  {
   "cell_type": "markdown",
   "metadata": {},
   "source": [
    "## Specification in Omega\n",
    "Following is the result of writing the specifications using the omega toolbox."
   ]
  },
  {
   "cell_type": "code",
   "execution_count": 2,
   "metadata": {},
   "outputs": [
    {
     "name": "stderr",
     "output_type": "stream",
     "text": [
      "`omega.symbolic.symbolic` failed to import `dd.cudd`.\n",
      "Will use `dd.autoref`.\n"
     ]
    }
   ],
   "source": [
    "from omega.games import gr1\n",
    "from omega.games import enumeration as enum\n",
    "from omega.symbolic import temporal as trl\n",
    "from omega.games.enumeration import action_to_steps\n",
    "from omega.symbolic import enumeration as sym_enum\n",
    "import networkx as nx"
   ]
  },
  {
   "cell_type": "code",
   "execution_count": 3,
   "metadata": {
    "scrolled": true
   },
   "outputs": [
    {
     "data": {
      "text/html": [
       "<iframe src=outputs/high_level.pdf width=900 height=900></iframe>"
      ],
      "text/latex": [
       "\\includegraphics[width=1.0\\textwidth]{outputs/high_level.pdf}"
      ],
      "text/plain": [
       "<__main__.PDF at 0x1f349879b88>"
      ]
     },
     "execution_count": 3,
     "metadata": {},
     "output_type": "execute_result"
    }
   ],
   "source": [
    "aut = trl.Automaton()\n",
    "MAX_ROOMS = 2\n",
    "aut.declare_variables(active=(1,MAX_ROOMS), \n",
    "                      known_room = (0, MAX_ROOMS), room = (-1, MAX_ROOMS), known = (0,1), goTo = (-1,MAX_ROOMS))\n",
    "aut.varlist['env']=['active']\n",
    "aut.varlist['sys']=['known_room','known','room','goTo']\n",
    "aut.prime_varlists()\n",
    "\n",
    "specs1 = open('specifications/high_level.txt','r')\n",
    "specs1 = specs1.read()\n",
    "\n",
    "aut.define(specs1)\n",
    "aut.init.update(\n",
    "    env='env_init',\n",
    "    sys='sys_init')\n",
    "aut.action.update(\n",
    "    env='env_action',\n",
    "    sys='sys_action')\n",
    "aut.win['<>[]'] = aut.bdds_from('TRUE')\n",
    "aut.win['[]<>'] = aut.bdds_from('TRUE')\n",
    "aut.qinit = '\\E \\A'\n",
    "aut.moore = True\n",
    "aut.plus_one = True\n",
    "\n",
    "z, yij, xijk = gr1.solve_streett_game(aut)\n",
    "gr1.make_streett_transducer(z, yij, xijk, aut)\n",
    "aut.varlist['sys'].append('_goal')\n",
    "aut.prime_varlists()\n",
    "# enumerate\n",
    "g1 = enum.action_to_steps(aut, 'env', 'impl', qinit=aut.qinit)\n",
    "h, _ = sym_enum._format_nx(g1)\n",
    "pd = nx.drawing.nx_pydot.to_pydot(h)\n",
    "pd.write_pdf('outputs/high_level.pdf')\n",
    "PDF('outputs/high_level.pdf',size=(900,900))"
   ]
  },
  {
   "cell_type": "code",
   "execution_count": 4,
   "metadata": {
    "scrolled": true
   },
   "outputs": [
    {
     "data": {
      "text/html": [
       "<iframe src=outputs/high_level_2.pdf width=900 height=900></iframe>"
      ],
      "text/latex": [
       "\\includegraphics[width=1.0\\textwidth]{outputs/high_level_2.pdf}"
      ],
      "text/plain": [
       "<__main__.PDF at 0x1f349a4a7c8>"
      ]
     },
     "execution_count": 4,
     "metadata": {},
     "output_type": "execute_result"
    }
   ],
   "source": [
    "aut = trl.Automaton()\n",
    "MAX_ROOMS = 2\n",
    "aut.declare_variables(active=(1,MAX_ROOMS), \n",
    "                      known_room = (0, MAX_ROOMS), room = (-1, MAX_ROOMS), known = (0,1), goTo = (-1,MAX_ROOMS))\n",
    "aut.varlist['env']=['active']\n",
    "aut.varlist['sys']=['known_room','known','room','goTo']\n",
    "aut.prime_varlists()\n",
    "\n",
    "specs2 = open('specifications/high_level_2.txt','r')\n",
    "specs2 = specs2.read()\n",
    "\n",
    "aut.define(specs2)\n",
    "aut.init.update(\n",
    "    env='env_init',\n",
    "    sys='sys_init')\n",
    "aut.action.update(\n",
    "    env='env_action',\n",
    "    sys='sys_action')\n",
    "aut.win['<>[]'] = aut.bdds_from('TRUE')\n",
    "aut.win['[]<>'] = aut.bdds_from('TRUE')\n",
    "aut.qinit = '\\E \\A'\n",
    "aut.moore = True\n",
    "aut.plus_one = True\n",
    "\n",
    "z, yij, xijk = gr1.solve_streett_game(aut)\n",
    "gr1.make_streett_transducer(z, yij, xijk, aut)\n",
    "aut.varlist['sys'].append('_goal')\n",
    "aut.prime_varlists()\n",
    "# enumerate\n",
    "g2 = enum.action_to_steps(aut, 'env', 'impl', qinit=aut.qinit)\n",
    "h, _ = sym_enum._format_nx(g2)\n",
    "pd = nx.drawing.nx_pydot.to_pydot(h)\n",
    "pd.write_pdf('outputs/high_level_2.pdf')\n",
    "PDF('outputs/high_level_2.pdf',size=(900,900))"
   ]
  },
  {
   "cell_type": "markdown",
   "metadata": {},
   "source": [
    "## Swarm-Robot Class"
   ]
  },
  {
   "cell_type": "code",
   "execution_count": 5,
   "metadata": {},
   "outputs": [],
   "source": [
    "from numpy import array as array\n",
    "from numpy import linalg as LA\n",
    "from numpy import array_equal as equals\n",
    "\n",
    "class Robot:\n",
    "    #Edit these constants to change physical location of\n",
    "    ROOMS = array([[0,0],[0,10],[15,0]])\n",
    "    \n",
    "    N = array([0,1])\n",
    "    E = array([1,0])\n",
    "    S = array([0,-1])\n",
    "    W = array([-1,0])\n",
    "    \n",
    "    def __init__(self, strategy, node = 0):\n",
    "        self.node = node\n",
    "        self.strategy = strategy\n",
    "        self.goTo = self.strategy._node.get(self.node)['goTo']\n",
    "        self.room = self.strategy._node.get(self.node)['room']\n",
    "        self.pos = self.ROOMS[0]\n",
    "        self.known = self.strategy._node.get(self.node)['known']\n",
    "        self.known_room = self.strategy._node.get(self.node)['known_room']\n",
    "    \n",
    "    def move(self,environment):\n",
    "        self.propagate()\n",
    "        \n",
    "        cond1 = self.room == -1\n",
    "        condTemp = False\n",
    "        for i in range(len(self.ROOMS)):\n",
    "            condTemp = condTemp or (self.pos==self.ROOMS[i]).all()\n",
    "            \n",
    "        cond1 = cond1 and condTemp\n",
    "        \n",
    "        cond2 = False\n",
    "        for i in range(len(self.ROOMS)):\n",
    "            cond2 = cond2 or self.room == i and not equals(self.pos,self.ROOMS[i])\n",
    "        \n",
    "        if cond1 or cond2:\n",
    "            successors = list(self.strategy._succ[self.node].keys())\n",
    "            if environment == 1:\n",
    "                for suc in successors:\n",
    "                    if self.strategy._node.get(suc)['active'] == 1:\n",
    "                        self.node = suc\n",
    "            elif environment == 2:\n",
    "                for suc in successors:\n",
    "                    if self.strategy._node.get(suc)['active'] == 2:\n",
    "                        self.node = suc\n",
    "            self.goTo = self.strategy._node.get(self.node)['goTo']\n",
    "            self.room = self.strategy._node.get(self.node)['room']\n",
    "            self.known = self.strategy._node.get(self.node)['known']\n",
    "            self.known_room = self.strategy._node.get(self.node)['known_room'] \n",
    "            \n",
    "            \n",
    "    def propagate(self):\n",
    "        if self.room == -1:\n",
    "            if (self.ROOMS[self.goTo] - self.pos)[0] > 0:\n",
    "                self.pos = self.pos + self.E\n",
    "            elif (self.ROOMS[self.goTo] - self.pos)[0] < 0:\n",
    "                self.pos = self.pos + self.W\n",
    "            elif (self.ROOMS[self.goTo] - self.pos)[0] == 0:\n",
    "                self.pos = self.pos\n",
    "\n",
    "            if (self.ROOMS[self.goTo] - self.pos)[1] > 0:\n",
    "                self.pos = self.pos + self.N\n",
    "            elif (self.ROOMS[self.goTo] - self.pos)[1] < 0:\n",
    "                self.pos = self.pos + self.S\n",
    "            elif (self.ROOMS[self.goTo] - self.pos)[1] == 0:\n",
    "                self.pos = self.pos\n",
    "            \n",
    "        elif self.room > -1:\n",
    "            AVERAGE = 0\n",
    "            for i in range(len(self.ROOMS)):\n",
    "                AVERAGE = AVERAGE + self.ROOMS[i]\n",
    "            AVERAGE = AVERAGE/len(self.ROOMS)\n",
    "            if (AVERAGE - self.pos)[0] > 0:\n",
    "                self.pos = self.pos + self.E\n",
    "            elif (AVERAGE - self.pos)[0] < 0:\n",
    "                self.pos = self.pos + self.W\n",
    "            elif (AVERAGE - self.pos)[0] == 0:\n",
    "                self.pos = self.pos\n",
    "\n",
    "            if (AVERAGE - self.pos)[1] > 0:\n",
    "                self.pos = self.pos + self.N\n",
    "            elif (AVERAGE - self.pos)[1] < 0:\n",
    "                self.pos = self.pos + self.S\n",
    "            elif (AVERAGE - self.pos)[1] == 0:\n",
    "                self.pos = self.pos"
   ]
  },
  {
   "cell_type": "markdown",
   "metadata": {},
   "source": [
    "## Simulation"
   ]
  },
  {
   "cell_type": "code",
   "execution_count": null,
   "metadata": {},
   "outputs": [
    {
     "data": {
      "image/png": "[encoded data removed]",
      "text/plain": [
       "<Figure size 432x288 with 1 Axes>"
      ]
     },
     "metadata": {
      "needs_background": "light"
     },
     "output_type": "display_data"
    }
   ],
   "source": [
    "import matplotlib.pyplot as plt\n",
    "from IPython.display import clear_output\n",
    "swarmSize = 20\n",
    "population = [0]*swarmSize\n",
    "\n",
    "for i in range(len(population)):\n",
    "    if i < swarmSize/2:\n",
    "        population[i] = Robot(g1)\n",
    "    else:\n",
    "        population[i] = Robot(g2)\n",
    "        \n",
    "run = True\n",
    "environment = int(input('Environment is: '))\n",
    "while run:\n",
    "    for j in range(len(population)):\n",
    "        population[j].move(environment)\n",
    "        \n",
    "    for i in range(1, len(population[0].ROOMS)):\n",
    "        plt.scatter(population[0].ROOMS[i][0],population[0].ROOMS[i][1], c = 'green')\n",
    "    plt.scatter(population[0].ROOMS[0][0],population[0].ROOMS[0][1], c = 'black')\n",
    "    plt.scatter(population[0].ROOMS[environment][0],population[0].ROOMS[environment][1], c = 'red')\n",
    "    for j in range(len(population)):\n",
    "        plt.scatter(population[j].pos[0],population[j].pos[1], c = 'blue')\n",
    "    plt.legend(['Foraging Site','Foraging Site','Hive','Active Site','Bees'])\n",
    "    plt.axis([-1, 20, -1, 20])\n",
    "    plt.show()\n",
    "    plt.close()\n",
    "    \n",
    "    environment = int(input('Environment is: '))\n",
    "\n",
    "    if environment == 0:\n",
    "        run = False\n",
    "    clear_output(wait=True)"
   ]
  }
 ],
 "metadata": {
  "kernelspec": {
   "display_name": "Python 3",
   "language": "python",
   "name": "python3"
  },
  "language_info": {
   "codemirror_mode": {
    "name": "ipython",
    "version": 3
   },
   "file_extension": ".py",
   "mimetype": "text/x-python",
   "name": "python",
   "nbconvert_exporter": "python",
   "pygments_lexer": "ipython3",
   "version": "3.7.7"
  }
 },
 "nbformat": 4,
 "nbformat_minor": 4
}
