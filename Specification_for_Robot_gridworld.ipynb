{
 "cells": [
  {
   "cell_type": "markdown",
   "metadata": {},
   "source": [
    "### PDF Display"
   ]
  },
  {
   "cell_type": "code",
   "execution_count": 1,
   "metadata": {},
   "outputs": [],
   "source": [
    "class PDF(object):\n",
    "  def __init__(self, pdf, size=(200,200)):\n",
    "    self.pdf = pdf\n",
    "    self.size = size\n",
    "\n",
    "  def _repr_html_(self):\n",
    "    return '<iframe src={0} width={1[0]} height={1[1]}></iframe>'.format(self.pdf, self.size)\n",
    "\n",
    "  def _repr_latex_(self):\n",
    "    return r'\\includegraphics[width=1.0\\textwidth]{{{0}}}'.format(self.pdf)"
   ]
  },
  {
   "cell_type": "markdown",
   "metadata": {},
   "source": [
    "<h1><center>Single Robot</center></h1>"
   ]
  },
  {
   "cell_type": "markdown",
   "metadata": {},
   "source": [
    "## Specification in Omega\n",
    "Following is the result of writing the specifications using the omega toolbox."
   ]
  },
  {
   "cell_type": "code",
   "execution_count": 2,
   "metadata": {},
   "outputs": [],
   "source": [
    "from omega.games import gr1\n",
    "from omega.games import enumeration as enum\n",
    "from omega.symbolic import temporal as trl\n",
    "from omega.games.enumeration import action_to_steps\n",
    "from omega.symbolic import enumeration as sym_enum\n",
    "import networkx as nx"
   ]
  },
  {
   "cell_type": "markdown",
   "metadata": {},
   "source": [
    "```\n",
    "gridworld:\n",
    "\n",
    "+------+------+------+\n",
    "| x0y2 | x1y2 | x2y2 |\n",
    "|site 2|      |      |\n",
    "+------+------+------+\n",
    "| x0y1 | x1y1 | x2y1 |\n",
    "|      |      |      |\n",
    "+------+------+------+\n",
    "| x0y0 | x1y0 | x2y0 |\n",
    "| home |      |site 1|\n",
    "+------+------+------+\n",
    "\n",
    "Dynamics:\n",
    "x \\in 0..2 /\\ y \\in 0..2\n",
    "x' \\in 0..2 /\\ y' \\in 0..2\n",
    "\n",
    "((x' - x) < 2) /\\ ((x' - x) > -2)\n",
    "((y' - y) < 2) /\\ ((y' - y) > -2)\n",
    "```"
   ]
  },
  {
   "cell_type": "code",
   "execution_count": 3,
   "metadata": {},
   "outputs": [],
   "source": [
    "aut = trl.Automaton()\n",
    "aut.declare_variables(sysX=(0,2), sysY = (0,2), active=(1, 2), k = (0,1), goTo = (0,2), kR = (0,2))\n",
    "aut.varlist['env']=['active']\n",
    "aut.varlist['sys']=['sysX','sysY','k','kR','goTo']\n",
    "aut.prime_varlists()"
   ]
  },
  {
   "cell_type": "code",
   "execution_count": 4,
   "metadata": {},
   "outputs": [],
   "source": [
    "specs = '''\n",
    "envInit ==\n",
    "    /\\ active = 1\n",
    "\n",
    "envNext ==\n",
    "    /\\ (active \\in 1..2 /\\ active' \\in 1..2)\n",
    "    /\\ (active' = active \\/ active' != active) \n",
    "\n",
    "stat == (sysX' = sysX /\\ sysY' = sysY)\n",
    "\n",
    "dynamics == \n",
    "    /\\ (sysX \\in 0..2 /\\ sysY \\in 0..2)\n",
    "    /\\ (sysX' \\in 0..2 /\\ sysY' \\in 0..2)\n",
    "\n",
    "    /\\ (((sysX' - sysX) < 2) /\\ ((sysX' - sysX) > -2))\n",
    "    /\\ (((sysY' - sysY) < 2) /\\ ((sysY' - sysY) > -2))\n",
    "\n",
    "home == \n",
    "    /\\ sysX = 0\n",
    "    /\\ sysY = 0\n",
    "\n",
    "room1 == \n",
    "    /\\ sysX = 2\n",
    "    /\\ sysY = 0\n",
    "\n",
    "room2 == \n",
    "    /\\ sysX = 0\n",
    "    /\\ sysY = 2\n",
    "\n",
    "goTOR1 ==\n",
    "    /\\ ((sysX < 2) => (sysX' = sysX + 1))\n",
    "    /\\ ((sysY > 0) => (sysY' = sysY - 1))\n",
    "\n",
    "goTOR2 ==\n",
    "    /\\ ((sysX > 0) => (sysX' = sysX - 1))\n",
    "    /\\ ((sysY < 2) => (sysY' = sysY + 1))\n",
    "\n",
    "goTOHOME ==\n",
    "    /\\ ((sysX > 0) => (sysX' = sysX - 1))\n",
    "    /\\ ((sysY > 0) => (sysY' = sysY - 1))\n",
    "\n",
    "sysInit ==\n",
    "    /\\ sysX = 0\n",
    "    /\\ sysY = 0\n",
    "    /\\ k = 1\n",
    "    /\\ goTo = 0\n",
    "    /\\ kR = 2\n",
    "\n",
    "sysNext ==\n",
    "    /\\ dynamics\n",
    "    /\\ ((goTo = 0) => (goTOHOME))\n",
    "    /\\ ((goTo = 1) => (goTOR1))\n",
    "    /\\ ((goTo = 2) => (goTOR2))\n",
    "\n",
    "    /\\ ((home /\\ (goTo = 1 \\/ goTo = 2)) => (k' = k /\\ kR' = kR /\\ goTo' = goTo))\n",
    "    /\\ ((home /\\ k = 1 /\\ (kR = 1 \\/ kR = 2) /\\ goTo = 0) => (stat /\\ k' = k /\\ kR' = kR /\\ goTo' = kR))\n",
    "\n",
    "    /\\ (((~home /\\ ~room1 /\\ ~room2)) => (k' = k /\\ goTo' = goTo /\\ kR' = kR))\n",
    "\n",
    "    /\\ ((room2 /\\ active = 2 /\\ goTo = 2) => (stat /\\ k' = 1 /\\ kR' = 2 /\\ goTo' = 0))\n",
    "    /\\ ((room2 /\\ goTo = 0) => (k' = 1 /\\ kR' = 2 /\\ goTo' = 0))\n",
    "    /\\ ((room2 /\\ active != 2 /\\ goTo = 2) => (stat /\\ k' = 0 /\\ kR' = 0 /\\ goTo' = 1))\n",
    "    /\\ ((room2 /\\ goTo = 1) => (k' = 0 /\\ kR' = 0 /\\ goTo' = 1))\n",
    "\n",
    "    /\\ ((room1 /\\ active = 1 /\\ goTo = 1) => (stat /\\ k' = 1 /\\ kR' = 1 /\\ goTo' = 0))\n",
    "    /\\ ((room1 /\\ goTo = 0) => (k' = 1 /\\ kR' = 1 /\\ goTo' = 0))\n",
    "    /\\ ((room1 /\\ active != 1 /\\ goTo = 1) => (stat /\\ k' = 0 /\\ kR' = 0 /\\ goTo' = 2))\n",
    "    /\\ ((room1 /\\ goTo = 2) => (k' = 0 /\\ kR' = 0 /\\ goTo' = 2))\n",
    "'''"
   ]
  },
  {
   "cell_type": "code",
   "execution_count": 5,
   "metadata": {},
   "outputs": [],
   "source": [
    "aut.define(specs)\n",
    "aut.init.update(\n",
    "    env='envInit',\n",
    "    sys='sysInit')\n",
    "aut.action.update(\n",
    "    env='envNext',\n",
    "    sys='sysNext')\n",
    "aut.win['<>[]'] = aut.bdds_from('TRUE')\n",
    "aut.win['[]<>'] = aut.bdds_from('sysX = 0 /\\ sysY = 0')"
   ]
  },
  {
   "cell_type": "code",
   "execution_count": 6,
   "metadata": {
    "scrolled": false
   },
   "outputs": [
    {
     "data": {
      "text/html": [
       "<iframe src=outputs/gridworld_game_states_omega.pdf width=900 height=900></iframe>"
      ],
      "text/latex": [
       "\\includegraphics[width=1.0\\textwidth]{outputs/gridworld_game_states_omega.pdf}"
      ],
      "text/plain": [
       "<__main__.PDF at 0x7f31df22b880>"
      ]
     },
     "execution_count": 6,
     "metadata": {},
     "output_type": "execute_result"
    }
   ],
   "source": [
    "aut.qinit = '\\E \\A'\n",
    "aut.moore = True\n",
    "aut.plus_one = True\n",
    "\n",
    "z, yij, xijk = gr1.solve_streett_game(aut)\n",
    "gr1.make_streett_transducer(z, yij, xijk, aut)\n",
    "aut.varlist['sys'].append('_goal')\n",
    "aut.prime_varlists()\n",
    "# enumerate\n",
    "g = enum.action_to_steps(aut, 'env', 'impl', qinit=aut.qinit)\n",
    "h, _ = sym_enum._format_nx(g)\n",
    "pd = nx.drawing.nx_pydot.to_pydot(h)\n",
    "pd.write_pdf('outputs/gridworld_game_states_omega.pdf')\n",
    "PDF('outputs/gridworld_game_states_omega.pdf',size=(900,900))"
   ]
  },
  {
   "cell_type": "markdown",
   "metadata": {},
   "source": [
    "## Simulations"
   ]
  },
  {
   "cell_type": "code",
   "execution_count": null,
   "metadata": {
    "scrolled": false
   },
   "outputs": [
    {
     "data": {
      "image/png": "[encoded data removed]",
      "text/plain": [
       "<Figure size 432x288 with 1 Axes>"
      ]
     },
     "metadata": {
      "needs_background": "light"
     },
     "output_type": "display_data"
    }
   ],
   "source": [
    "import matplotlib.pyplot as plt\n",
    "import numpy as np\n",
    "from IPython.display import clear_output\n",
    "import time\n",
    "\n",
    "active = 1\n",
    "activeX = 2\n",
    "activeY = 0\n",
    "robX = 0\n",
    "robY = 0\n",
    "current = 0\n",
    "run = True  #set active == 0 to exit loop\n",
    "while run:\n",
    "    plt.plot([-0.5, 2.5, 2.5, -0.5, -0.5, 2.5, 2.5, -0.5, -0.5, 2.5, 2.5, -0.5, -0.5, 0.5, 0.5, 1.5, 1.5],\n",
    "             [-0.5, -0.5, 0.5, 0.5, 1.5, 1.5, 2.5, 2.5, 1.5, 1.5, 0.5, 0.5, -0.5, -0.5, 2.5, 2.5, -0.5])\n",
    "    plt.text(-.2, 0.16, \"Home\", fontsize=12)\n",
    "    plt.text(1.8, 0.16, \"Site 1\", fontsize=12)\n",
    "    plt.text(-.2, 2.16, \"Site 2\", fontsize=12)\n",
    "    \n",
    "    # environment\n",
    "    plt.scatter([activeX],[activeY],c='green')\n",
    "    # system\n",
    "    plt.scatter([robX],[robY],c='blue')\n",
    "    plt.show()\n",
    "    # environment input\n",
    "    active = int(input(\"Environment's next step is: \"))\n",
    "    plt.close()\n",
    "    successors = list(g._succ[current].keys())\n",
    "    \n",
    "    if active == 1:\n",
    "        activeX = 2\n",
    "        activeY = 0\n",
    "        for suc in successors:\n",
    "            if g._node.get(suc)['active'] == 1:\n",
    "                current = suc\n",
    "    elif active == 2:\n",
    "        activeX = 0\n",
    "        activeY = 2\n",
    "        for suc in successors:\n",
    "            if g._node.get(suc)['active'] == 2:\n",
    "                current = suc\n",
    "    elif active == 0:   #set active == 0 to exit loop\n",
    "        run = False\n",
    "        print('Exiting Simulations')\n",
    "        break\n",
    "    robX = g._node.get(current)['sysX']\n",
    "    robY = g._node.get(current)['sysY']\n",
    "    print(\"Robot goes to: ({}, {})\".format(robX,robY))\n",
    "    time.sleep(1)\n",
    "    clear_output(wait=True)"
   ]
  }
 ],
 "metadata": {
  "kernelspec": {
   "display_name": "Python 3.8.3 64-bit ('aria': conda)",
   "language": "python",
   "name": "python38364bitariaconda016bd46555c24daa8829e25701e572b2"
  },
  "language_info": {
   "codemirror_mode": {
    "name": "ipython",
    "version": 3
   },
   "file_extension": ".py",
   "mimetype": "text/x-python",
   "name": "python",
   "nbconvert_exporter": "python",
   "pygments_lexer": "ipython3",
   "version": "3.8.3"
  }
 },
 "nbformat": 4,
 "nbformat_minor": 4
}
