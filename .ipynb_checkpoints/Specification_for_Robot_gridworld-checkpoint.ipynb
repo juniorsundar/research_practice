{
 "cells": [
  {
   "cell_type": "markdown",
   "metadata": {},
   "source": [
    "### PDF Display"
   ]
  },
  {
   "cell_type": "code",
   "execution_count": 1,
   "metadata": {},
   "outputs": [],
   "source": [
    "class PDF(object):\n",
    "  def __init__(self, pdf, size=(200,200)):\n",
    "    self.pdf = pdf\n",
    "    self.size = size\n",
    "\n",
    "  def _repr_html_(self):\n",
    "    return '<iframe src={0} width={1[0]} height={1[1]}></iframe>'.format(self.pdf, self.size)\n",
    "\n",
    "  def _repr_latex_(self):\n",
    "    return r'\\includegraphics[width=1.0\\textwidth]{{{0}}}'.format(self.pdf)"
   ]
  },
  {
   "cell_type": "markdown",
   "metadata": {},
   "source": [
    "<h1><center>Single Robot</center></h1>"
   ]
  },
  {
   "cell_type": "markdown",
   "metadata": {},
   "source": [
    "## Specification in Omega\n",
    "Following is the result of writing the specifications using the omega toolbox."
   ]
  },
  {
   "cell_type": "code",
   "execution_count": 2,
   "metadata": {},
   "outputs": [],
   "source": [
    "from omega.games import gr1\n",
    "from omega.games import enumeration as enum\n",
    "from omega.symbolic import temporal as trl\n",
    "from omega.games.enumeration import action_to_steps\n",
    "from omega.symbolic import enumeration as sym_enum\n",
    "import networkx as nx"
   ]
  },
  {
   "cell_type": "markdown",
   "metadata": {},
   "source": [
    "```\n",
    "gridworld:\n",
    "\n",
    "+------+------+------+\n",
    "| x0y2 | x1y2 | x2y2 |\n",
    "|site 2|      |      |\n",
    "+------+------+------+\n",
    "| x0y1 | x1y1 | x2y1 |\n",
    "|      |      |      |\n",
    "+------+------+------+\n",
    "| x0y0 | x1y0 | x2y0 |\n",
    "| home |      |site 1|\n",
    "+------+------+------+\n",
    "\n",
    "Dynamics:\n",
    "x \\in 0..2 /\\ y \\in 0..2\n",
    "x' \\in 0..2 /\\ y' \\in 0..2\n",
    "\n",
    "((x' - x) < 2) /\\ ((x' - x) > -2)\n",
    "((y' - y) < 2) /\\ ((y' - y) > -2)\n",
    "```"
   ]
  },
  {
   "cell_type": "code",
   "execution_count": 3,
   "metadata": {},
   "outputs": [],
   "source": [
    "aut = trl.Automaton()\n",
    "aut.declare_variables(sysX=(0,2), sysY = (0,2), active=(1, 2), k = (0,1), goTo = (0,2), kR = (0,2))\n",
    "aut.varlist['env']=['active']\n",
    "aut.varlist['sys']=['sysX','sysY','k','kR','goTo']\n",
    "aut.prime_varlists()"
   ]
  },
  {
   "cell_type": "code",
   "execution_count": 4,
   "metadata": {},
   "outputs": [],
   "source": [
    "specs = '''\n",
    "envInit ==\n",
    "    /\\ active = 1\n",
    "\n",
    "envNext ==\n",
    "    /\\ (active \\in 1..2 /\\ active' \\in 1..2)\n",
    "    /\\ (active' = active \\/ active' != active) \n",
    "\n",
    "stat == (sysX' = sysX /\\ sysY' = sysY)\n",
    "\n",
    "dynamics == \n",
    "    /\\ (sysX \\in 0..2 /\\ sysY \\in 0..2)\n",
    "    /\\ (sysX' \\in 0..2 /\\ sysY' \\in 0..2)\n",
    "\n",
    "    /\\ (((sysX' - sysX) < 2) /\\ ((sysX' - sysX) > -2))\n",
    "    /\\ (((sysY' - sysY) < 2) /\\ ((sysY' - sysY) > -2))\n",
    "\n",
    "home == \n",
    "    /\\ sysX = 0\n",
    "    /\\ sysY = 0\n",
    "\n",
    "room1 == \n",
    "    /\\ sysX = 2\n",
    "    /\\ sysY = 0\n",
    "\n",
    "room2 == \n",
    "    /\\ sysX = 0\n",
    "    /\\ sysY = 2\n",
    "\n",
    "goTOR1 ==\n",
    "    /\\ ((sysX < 2) => (sysX' = sysX + 1))\n",
    "    /\\ ((sysY > 0) => (sysY' = sysY - 1))\n",
    "\n",
    "goTOR2 ==\n",
    "    /\\ ((sysX > 0) => (sysX' = sysX - 1))\n",
    "    /\\ ((sysY < 2) => (sysY' = sysY + 1))\n",
    "\n",
    "goTOHOME ==\n",
    "    /\\ ((sysX > 0) => (sysX' = sysX - 1))\n",
    "    /\\ ((sysY > 0) => (sysY' = sysY - 1))\n",
    "\n",
    "sysInit ==\n",
    "    /\\ sysX = 0\n",
    "    /\\ sysY = 0\n",
    "    /\\ k = 1\n",
    "    /\\ goTo = 0\n",
    "    /\\ kR = 2\n",
    "\n",
    "sysNext ==\n",
    "    /\\ dynamics\n",
    "    /\\ ((goTo = 0) => (goTOHOME))\n",
    "    /\\ ((goTo = 1) => (goTOR1))\n",
    "    /\\ ((goTo = 2) => (goTOR2))\n",
    "\n",
    "    /\\ ((home /\\ (goTo = 1 \\/ goTo = 2)) => (k' = k /\\ kR' = kR /\\ goTo' = goTo))\n",
    "    /\\ ((home /\\ k = 1 /\\ (kR = 1 \\/ kR = 2) /\\ goTo = 0) => (stat /\\ k' = k /\\ kR' = kR /\\ goTo' = kR))\n",
    "\n",
    "    /\\ (((~home /\\ ~room1 /\\ ~room2)) => (k' = k /\\ goTo' = goTo /\\ kR' = kR))\n",
    "\n",
    "    /\\ ((room2 /\\ active = 2 /\\ goTo = 2) => (stat /\\ k' = 1 /\\ kR' = 2 /\\ goTo' = 0))\n",
    "    /\\ ((room2 /\\ goTo = 0) => (k' = 1 /\\ kR' = 2 /\\ goTo' = 0))\n",
    "    /\\ ((room2 /\\ active != 2 /\\ goTo = 2) => (stat /\\ k' = 0 /\\ kR' = 0 /\\ goTo' = 1))\n",
    "    /\\ ((room2 /\\ goTo = 1) => (k' = 0 /\\ kR' = 0 /\\ goTo' = 1))\n",
    "\n",
    "    /\\ ((room1 /\\ active = 1 /\\ goTo = 1) => (stat /\\ k' = 1 /\\ kR' = 1 /\\ goTo' = 0))\n",
    "    /\\ ((room1 /\\ goTo = 0) => (k' = 1 /\\ kR' = 1 /\\ goTo' = 0))\n",
    "    /\\ ((room1 /\\ active != 1 /\\ goTo = 1) => (stat /\\ k' = 0 /\\ kR' = 0 /\\ goTo' = 2))\n",
    "    /\\ ((room1 /\\ goTo = 2) => (k' = 0 /\\ kR' = 0 /\\ goTo' = 2))\n",
    "'''"
   ]
  },
  {
   "cell_type": "code",
   "execution_count": 5,
   "metadata": {},
   "outputs": [],
   "source": [
    "aut.define(specs)\n",
    "aut.init.update(\n",
    "    env='envInit',\n",
    "    sys='sysInit')\n",
    "aut.action.update(\n",
    "    env='envNext',\n",
    "    sys='sysNext')\n",
    "aut.win['<>[]'] = aut.bdds_from('TRUE')\n",
    "aut.win['[]<>'] = aut.bdds_from('sysX = 0 /\\ sysY = 0')"
   ]
  },
  {
   "cell_type": "code",
   "execution_count": 6,
   "metadata": {
    "scrolled": true
   },
   "outputs": [
    {
     "data": {
      "text/html": [
       "<iframe src=outputs/gridworld_game_states_omega.pdf width=900 height=900></iframe>"
      ],
      "text/latex": [
       "\\includegraphics[width=1.0\\textwidth]{outputs/gridworld_game_states_omega.pdf}"
      ],
      "text/plain": [
       "<__main__.PDF at 0x7f8621f48850>"
      ]
     },
     "execution_count": 6,
     "metadata": {},
     "output_type": "execute_result"
    }
   ],
   "source": [
    "aut.qinit = '\\E \\A'\n",
    "aut.moore = True\n",
    "aut.plus_one = True\n",
    "\n",
    "z, yij, xijk = gr1.solve_streett_game(aut)\n",
    "gr1.make_streett_transducer(z, yij, xijk, aut)\n",
    "aut.varlist['sys'].append('_goal')\n",
    "aut.prime_varlists()\n",
    "# enumerate\n",
    "g = enum.action_to_steps(aut, 'env', 'impl', qinit=aut.qinit)\n",
    "h, _ = sym_enum._format_nx(g)\n",
    "pd = nx.drawing.nx_pydot.to_pydot(h)\n",
    "pd.write_pdf('outputs/gridworld_game_states_omega.pdf')\n",
    "PDF('outputs/gridworld_game_states_omega.pdf',size=(900,900))"
   ]
  },
  {
   "cell_type": "markdown",
   "metadata": {},
   "source": [
    "## Simulations"
   ]
  },
  {
   "cell_type": "code",
   "execution_count": 7,
   "metadata": {
    "scrolled": false
   },
   "outputs": [
    {
     "data": {
      "image/png": "[encoded data removed]",
      "text/plain": [
       "<Figure size 432x288 with 1 Axes>"
      ]
     },
     "metadata": {
      "needs_background": "light"
     },
     "output_type": "display_data"
    },
    {
     "name": "stdout",
     "output_type": "stream",
     "text": [
      "Environment's next step is: 0\n",
      "Exiting Simulations\n"
     ]
    }
   ],
   "source": [
    "import matplotlib.pyplot as plt\n",
    "import numpy as np\n",
    "from IPython.display import clear_output\n",
    "import time\n",
    "\n",
    "active = 1\n",
    "activeX = 2\n",
    "activeY = 0\n",
    "robX = 0\n",
    "robY = 0\n",
    "current = 0\n",
    "run = True  #set active == 0 to exit loop\n",
    "while run:\n",
    "    plt.plot([-0.5, 2.5, 2.5, -0.5, -0.5, 2.5, 2.5, -0.5, -0.5, 2.5, 2.5, -0.5, -0.5, 0.5, 0.5, 1.5, 1.5],\n",
    "             [-0.5, -0.5, 0.5, 0.5, 1.5, 1.5, 2.5, 2.5, 1.5, 1.5, 0.5, 0.5, -0.5, -0.5, 2.5, 2.5, -0.5])\n",
    "    plt.text(-.2, 0.16, \"Home\", fontsize=12)\n",
    "    plt.text(1.8, 0.16, \"Site 1\", fontsize=12)\n",
    "    plt.text(-.2, 2.16, \"Site 2\", fontsize=12)\n",
    "    \n",
    "    # environment\n",
    "    plt.scatter([activeX],[activeY],c='green')\n",
    "    # system\n",
    "    plt.scatter([robX],[robY],c='blue')\n",
    "    plt.show()\n",
    "    # environment input\n",
    "    active = int(input(\"Environment's next step is: \"))\n",
    "    plt.close()\n",
    "    successors = list(g._succ[current].keys())\n",
    "    \n",
    "    if active == 1:\n",
    "        activeX = 2\n",
    "        activeY = 0\n",
    "        for suc in successors:\n",
    "            if g._node.get(suc)['active'] == 1:\n",
    "                current = suc\n",
    "    elif active == 2:\n",
    "        activeX = 0\n",
    "        activeY = 2\n",
    "        for suc in successors:\n",
    "            if g._node.get(suc)['active'] == 2:\n",
    "                current = suc\n",
    "    elif active == 0:   #set active == 0 to exit loop\n",
    "        run = False\n",
    "        print('Exiting Simulations')\n",
    "        break\n",
    "    robX = g._node.get(current)['sysX']\n",
    "    robY = g._node.get(current)['sysY']\n",
    "    print(\"Robot goes to: ({}, {})\".format(robX,robY))\n",
    "    time.sleep(1)\n",
    "    clear_output(wait=True)"
   ]
  },
  {
   "cell_type": "markdown",
   "metadata": {},
   "source": [
    "<h1><center>Dual Robots</center></h1>"
   ]
  },
  {
   "cell_type": "markdown",
   "metadata": {},
   "source": [
    "## Specification in Omega\n",
    "Following is the result of writing the specifications using the omega toolbox."
   ]
  },
  {
   "cell_type": "code",
   "execution_count": 8,
   "metadata": {},
   "outputs": [],
   "source": [
    "from omega.games import gr1\n",
    "from omega.games import enumeration as enum\n",
    "from omega.symbolic import temporal as trl\n",
    "from omega.games.enumeration import action_to_steps\n",
    "from omega.symbolic import enumeration as sym_enum\n",
    "import networkx as nx"
   ]
  },
  {
   "cell_type": "code",
   "execution_count": 9,
   "metadata": {},
   "outputs": [],
   "source": [
    "aut = trl.Automaton()\n",
    "aut.declare_variables(active=(1, 2), turn = (1,2), \n",
    "                      sysX1=(0,2), sysY1 = (0,2), k1 = (0,1), goTo1 = (0,2), kR1 = (0,2),\n",
    "                      sysX2=(0,2), sysY2 = (0,2), k2 = (0,1), goTo2 = (0,2), kR2 = (0,2))\n",
    "aut.varlist['env']=['active','turn']\n",
    "aut.varlist['sys']=['sysX1','sysY1','k1','kR1','goTo1','sysX2','sysY2','k2','kR2','goTo2']\n",
    "aut.prime_varlists()"
   ]
  },
  {
   "cell_type": "code",
   "execution_count": 10,
   "metadata": {},
   "outputs": [],
   "source": [
    "specs = '''\n",
    "UNCHANGED_sys1 == \n",
    "    /\\ sysX1' = sysX1 /\\ sysY1' = sysY1\n",
    "    /\\ k1' = k1\n",
    "    /\\ kR1' = kR1\n",
    "    /\\ goTo1' = goTo1\n",
    "\n",
    "UNCHANGED_sys2 == \n",
    "    /\\ sysX2' = sysX2 /\\ sysY2' = sysY2\n",
    "    /\\ k2' = k2\n",
    "    /\\ kR2' = kR2\n",
    "    /\\ goTo2' = goTo2\n",
    "\n",
    "envInit ==\n",
    "    /\\ active = 1\n",
    "    /\\ turn = 1\n",
    "\n",
    "envNext ==\n",
    "    /\\ (active \\in 1..2 /\\ active' \\in 1..2)\n",
    "    /\\ (active' = active \\/ active' != active)\n",
    "    /\\ (turn \\in 1..2 /\\ turn' \\in 1..2)\n",
    "    /\\ (turn' != turn)\n",
    "    /\\ (turn = 1 => turn' = 2)\n",
    "    /\\ (turn = 2 => turn' = 1)\n",
    "\n",
    "stat1 == (sysX1' = sysX1 /\\ sysY1' = sysY1)\n",
    "\n",
    "dynamics1 == \n",
    "    /\\ (sysX1 \\in 0..2 /\\ sysY1 \\in 0..2)\n",
    "    /\\ (sysX1' \\in 0..2 /\\ sysY1' \\in 0..2)\n",
    "\n",
    "    /\\ (((sysX1' - sysX1) < 2) /\\ ((sysX1' - sysX1) > -2))\n",
    "    /\\ (((sysY1' - sysY1) < 2) /\\ ((sysY1' - sysY1) > -2))\n",
    "\n",
    "home1 == \n",
    "    /\\ sysX1 = 0\n",
    "    /\\ sysY1 = 0\n",
    "\n",
    "room11 == \n",
    "    /\\ sysX1 = 2\n",
    "    /\\ sysY1 = 0\n",
    "\n",
    "room21 == \n",
    "    /\\ sysX1 = 0\n",
    "    /\\ sysY1 = 2\n",
    "\n",
    "goTOR11 ==\n",
    "    /\\ ((sysX1 < 2) => (sysX1' = sysX1 + 1))\n",
    "    /\\ ((sysY1 > 0) => (sysY1' = sysY1 - 1))\n",
    "\n",
    "goTOR21 ==\n",
    "    /\\ ((sysX1 > 0) => (sysX1' = sysX1 - 1))\n",
    "    /\\ ((sysY1 < 2) => (sysY1' = sysY1 + 1))\n",
    "\n",
    "goTOHOME1 ==\n",
    "    /\\ ((sysX1 > 0) => (sysX1' = sysX1 - 1))\n",
    "    /\\ ((sysY1 > 0) => (sysY1' = sysY1 - 1))\n",
    "\n",
    "sysInit1 ==\n",
    "    /\\ sysX1 = 0\n",
    "    /\\ sysY1 = 0\n",
    "    /\\ k1 = 1\n",
    "    /\\ goTo1 = 0\n",
    "    /\\ kR1 = 2\n",
    "\n",
    "sysStep1 ==\n",
    "    /\\ dynamics1\n",
    "    /\\ ((goTo1 = 0) => (goTOHOME1))\n",
    "    /\\ ((goTo1 = 1) => (goTOR11))\n",
    "    /\\ ((goTo1 = 2) => (goTOR21))\n",
    "\n",
    "    /\\ ((home1 /\\ (goTo1 = 1 \\/ goTo1 = 2)) => (k1' = k1 /\\ kR1' = kR1 /\\ goTo1' = goTo1))\n",
    "    /\\ ((home1 /\\ k1 = 1 /\\ (kR1 = 1 \\/ kR1 = 2) /\\ goTo1 = 0) => (stat1 /\\ k1' = k1 /\\ kR1' = kR1 /\\ goTo1' = kR1))\n",
    "\n",
    "    /\\ (((~home1 /\\ ~room11 /\\ ~room21)) => (k1' = k1 /\\ goTo1' = goTo1 /\\ kR1' = kR1))\n",
    "\n",
    "    /\\ ((room21 /\\ active = 2 /\\ goTo1 = 2) => (stat1 /\\ k1' = 1 /\\ kR1' = 2 /\\ goTo1' = 0))\n",
    "    /\\ ((room21 /\\ goTo1 = 0) => (k1' = 1 /\\ kR1' = 2 /\\ goTo1' = 0))\n",
    "    /\\ ((room21 /\\ active != 2 /\\ goTo1 = 2) => (stat1 /\\ k1' = 0 /\\ kR1' = 0 /\\ goTo1' = 1))\n",
    "    /\\ ((room21 /\\ goTo1 = 1) => (k1' = 0 /\\ kR1' = 0 /\\ goTo1' = 1))\n",
    "\n",
    "    /\\ ((room11 /\\ active = 1 /\\ goTo1 = 1) => (stat1 /\\ k1' = 1 /\\ kR1' = 1 /\\ goTo1' = 0))\n",
    "    /\\ ((room11 /\\ goTo1 = 0) => (k1' = 1 /\\ kR1' = 1 /\\ goTo1' = 0))\n",
    "    /\\ ((room11 /\\ active != 1 /\\ goTo1 = 1) => (stat1 /\\ k1' = 0 /\\ kR1' = 0 /\\ goTo1' = 2))\n",
    "    /\\ ((room11 /\\ goTo1 = 2) => (k1' = 0 /\\ kR1' = 0 /\\ goTo1' = 2))\n",
    "\n",
    "sysNext1 ==\n",
    "    /\\ (turn = 1 => sysStep1)\n",
    "    /\\ (turn != 1 => UNCHANGED_sys1)\n",
    "\n",
    "\n",
    "stat2 == (sysX2' = sysX2 /\\ sysY2' = sysY2)\n",
    "\n",
    "dynamics2 == \n",
    "    /\\ (sysX2 \\in 0..2 /\\ sysY2 \\in 0..2)\n",
    "    /\\ (sysX2' \\in 0..2 /\\ sysY2' \\in 0..2)\n",
    "\n",
    "    /\\ (((sysX2' - sysX2) < 2) /\\ ((sysX2' - sysX2) > -2))\n",
    "    /\\ (((sysY2' - sysY2) < 2) /\\ ((sysY2' - sysY2) > -2))\n",
    "\n",
    "home2 == \n",
    "    /\\ sysX2 = 0\n",
    "    /\\ sysY2 = 0\n",
    "\n",
    "room12 == \n",
    "    /\\ sysX2 = 2\n",
    "    /\\ sysY2 = 0\n",
    "\n",
    "room22 == \n",
    "    /\\ sysX2 = 0\n",
    "    /\\ sysY2 = 2\n",
    "\n",
    "goTOR12 ==\n",
    "    /\\ ((sysX2 < 2) => (sysX2' = sysX2 + 1))\n",
    "    /\\ ((sysY2 > 0) => (sysY2' = sysY2 - 1))\n",
    "\n",
    "goTOR22 ==\n",
    "    /\\ ((sysX2 > 0) => (sysX2' = sysX2 - 1))\n",
    "    /\\ ((sysY2 < 2) => (sysY2' = sysY2 + 1))\n",
    "\n",
    "goTOhome2 ==\n",
    "    /\\ ((sysX2 > 0) => (sysX2' = sysX2 - 1))\n",
    "    /\\ ((sysY2 > 0) => (sysY2' = sysY2 - 1))\n",
    "\n",
    "sysInit2 ==\n",
    "    /\\ sysX2 = 0\n",
    "    /\\ sysY2 = 0\n",
    "    /\\ k2 = 1\n",
    "    /\\ goTo2 = 0\n",
    "    /\\ kR2 = 2\n",
    "\n",
    "sysStep2 ==\n",
    "    /\\ dynamics2\n",
    "    /\\ ((goTo2 = 0) => (goTOhome2))\n",
    "    /\\ ((goTo2 = 1) => (goTOR12))\n",
    "    /\\ ((goTo2 = 2) => (goTOR22))\n",
    "\n",
    "    /\\ ((home2 /\\ (goTo2 = 1 \\/ goTo2 = 2)) => (k2' = k2 /\\ kR2' = kR2 /\\ goTo2' = goTo2))\n",
    "    /\\ ((home2 /\\ k2 = 1 /\\ (kR2 = 1 \\/ kR2 = 2) /\\ goTo2 = 0) => (stat2 /\\ k2' = k2 /\\ kR2' = kR2 /\\ goTo2' = kR2))\n",
    "\n",
    "    /\\ (((~home2 /\\ ~room12 /\\ ~room22)) => (k2' = k2 /\\ goTo2' = goTo2 /\\ kR2' = kR2))\n",
    "\n",
    "    /\\ ((room22 /\\ active = 2 /\\ goTo2 = 2) => (stat2 /\\ k2' = 1 /\\ kR2' = 2 /\\ goTo2' = 0))\n",
    "    /\\ ((room22 /\\ goTo2 = 0) => (k2' = 1 /\\ kR2' = 2 /\\ goTo2' = 0))\n",
    "    /\\ ((room22 /\\ active != 2 /\\ goTo2 = 2) => (stat2 /\\ k2' = 0 /\\ kR2' = 0 /\\ goTo2' = 1))\n",
    "    /\\ ((room22 /\\ goTo2 = 1) => (k2' = 0 /\\ kR2' = 0 /\\ goTo2' = 1))\n",
    "\n",
    "    /\\ ((room12 /\\ active = 1 /\\ goTo2 = 1) => (stat2 /\\ k2' = 1 /\\ kR2' = 1 /\\ goTo2' = 0))\n",
    "    /\\ ((room12 /\\ goTo2 = 0) => (k2' = 1 /\\ kR2' = 1 /\\ goTo2' = 0))\n",
    "    /\\ ((room12 /\\ active != 1 /\\ goTo2 = 1) => (stat2 /\\ k2' = 0 /\\ kR2' = 0 /\\ goTo2' = 2))\n",
    "    /\\ ((room12 /\\ goTo2 = 2) => (k2' = 0 /\\ kR2' = 0 /\\ goTo2' = 2))\n",
    "    \n",
    "sysNext2 ==\n",
    "    /\\ (turn = 2 => sysStep2)\n",
    "    /\\ (turn != 2 => UNCHANGED_sys2)\n",
    "    \n",
    "environmentInit == envInit\n",
    "environmentNext == envNext\n",
    "sysInit == sysInit1 /\\ sysInit2\n",
    "sysNext == sysNext1 /\\ sysNext2\n",
    "'''"
   ]
  },
  {
   "cell_type": "code",
   "execution_count": 11,
   "metadata": {},
   "outputs": [],
   "source": [
    "aut.define(specs)\n",
    "aut.init.update(\n",
    "    env='envInit',\n",
    "    sys='sysInit')\n",
    "aut.action.update(\n",
    "    env='envNext',\n",
    "    sys='sysNext')\n",
    "aut.win['<>[]'] = aut.bdds_from('TRUE')\n",
    "aut.win['[]<>'] = aut.bdds_from('TRUE')"
   ]
  },
  {
   "cell_type": "code",
   "execution_count": 12,
   "metadata": {},
   "outputs": [
    {
     "data": {
      "text/html": [
       "<iframe src=outputs/dual_gridworld_game_states_omega.pdf width=900 height=900></iframe>"
      ],
      "text/latex": [
       "\\includegraphics[width=1.0\\textwidth]{outputs/dual_gridworld_game_states_omega.pdf}"
      ],
      "text/plain": [
       "<__main__.PDF at 0x7f8641c26fd0>"
      ]
     },
     "execution_count": 12,
     "metadata": {},
     "output_type": "execute_result"
    }
   ],
   "source": [
    "aut.qinit = '\\E \\A'\n",
    "aut.moore = True\n",
    "aut.plus_one = True\n",
    "\n",
    "z, yij, xijk = gr1.solve_streett_game(aut)\n",
    "gr1.make_streett_transducer(z, yij, xijk, aut)\n",
    "aut.varlist['sys'].append('_goal')\n",
    "aut.prime_varlists()\n",
    "# enumerate\n",
    "g = enum.action_to_steps(aut, 'env', 'impl', qinit=aut.qinit)\n",
    "h, _ = sym_enum._format_nx(g)\n",
    "pd = nx.drawing.nx_pydot.to_pydot(h)\n",
    "pd.write_pdf('outputs/dual_gridworld_game_states_omega.pdf')\n",
    "PDF('outputs/dual_gridworld_game_states_omega.pdf',size=(900,900))"
   ]
  },
  {
   "cell_type": "markdown",
   "metadata": {},
   "source": [
    "## Simulations"
   ]
  },
  {
   "cell_type": "code",
   "execution_count": 14,
   "metadata": {},
   "outputs": [
    {
     "data": {
      "image/png": "[encoded data removed]",
      "text/plain": [
       "<Figure size 432x288 with 1 Axes>"
      ]
     },
     "metadata": {
      "needs_background": "light"
     },
     "output_type": "display_data"
    },
    {
     "name": "stdout",
     "output_type": "stream",
     "text": [
      "turn: 2\n",
      "Environment's next step is: 0\n",
      "Environment in room: 0\n",
      "Robot 1 in room: [0, 0]\n",
      "Robot 2 in room: [0, 0]\n"
     ]
    }
   ],
   "source": [
    "import matplotlib.pyplot as plt\n",
    "from IPython.display import clear_output\n",
    "import time\n",
    "\n",
    "turn = 1\n",
    "node = 0\n",
    "active = 1\n",
    "activeX = 2\n",
    "activeY = 0\n",
    "\n",
    "pos = [[0,0],[0,0]]\n",
    "    \n",
    "run = True  #set active == 0 to exit loop\n",
    "while run:\n",
    "    plt.plot([-0.5, 2.5, 2.5, -0.5, -0.5, 2.5, 2.5, -0.5, -0.5, 2.5, 2.5, -0.5, -0.5, 0.5, 0.5, 1.5, 1.5],\n",
    "             [-0.5, -0.5, 0.5, 0.5, 1.5, 1.5, 2.5, 2.5, 1.5, 1.5, 0.5, 0.5, -0.5, -0.5, 2.5, 2.5, -0.5])\n",
    "    plt.text(-.2, 0.16, \"Home\", fontsize=12)\n",
    "    plt.text(1.8, 0.16, \"Site 1\", fontsize=12)\n",
    "    plt.text(-.2, 2.16, \"Site 2\", fontsize=12)\n",
    "\n",
    "    # environment\n",
    "    plt.scatter([activeX],[activeY+0.2],c='green')\n",
    "    # system\n",
    "    for i in range(len(pos)):\n",
    "        plt.scatter(pos[i][0],pos[i][1]-i*0.1,c='blue')\n",
    "#     plt.legend(['Home','Room 1','Room 2','Env. Player'])\n",
    "    plt.show()\n",
    "\n",
    "    turn = g._node.get(node)['turn']\n",
    "    print(\"turn: {}\".format(turn))\n",
    "    active = int(input(\"Environment's next step is: \"))\n",
    "    successors = list(g._succ[node].keys())\n",
    "    \n",
    "    plt.close()\n",
    "    \n",
    "    if turn == 1:\n",
    "        temp = list(g._succ[node].keys())\n",
    "        node = temp[0]\n",
    "        pos[0][0] = int(g._node.get(node)['sysX1'])\n",
    "        pos[0][1] = int(g._node.get(node)['sysY1'])\n",
    "        print(\"Environment in room: {}\".format(active))\n",
    "    elif turn == 2:\n",
    "        temp = list(g._succ[node].keys())\n",
    "        node = temp[0]\n",
    "        pos[1][0] = int(g._node.get(node)['sysX2'])\n",
    "        pos[1][1] = int(g._node.get(node)['sysY2'])\n",
    "        print(\"Environment in room: {}\".format(active))\n",
    "\n",
    "    print(\"Robot 1 in room: {}\".format(pos[0]))\n",
    "    print(\"Robot 2 in room: {}\".format(pos[1]))\n",
    "    \n",
    "    if active == 1:\n",
    "        activeX = 2\n",
    "        activeY = 0\n",
    "        for suc in successors:\n",
    "            if g._node.get(suc)['active'] == 1:\n",
    "                node = suc\n",
    "    elif active == 2:\n",
    "        activeX = 0\n",
    "        activeY = 2\n",
    "        for suc in successors:\n",
    "            if g._node.get(suc)['active'] == 2:\n",
    "                node = suc\n",
    "    elif active == 0:   #set active == 0 to exit loop\n",
    "        print('Exiting Simulations')\n",
    "        break\n",
    "    \n",
    "    time.sleep(1)\n",
    "    clear_output(wait=True)"
   ]
  }
 ],
 "metadata": {
  "kernelspec": {
   "display_name": "Python 3.8.3 64-bit ('aria': conda)",
   "language": "python",
   "name": "python38364bitariaconda016bd46555c24daa8829e25701e572b2"
  },
  "language_info": {
   "codemirror_mode": {
    "name": "ipython",
    "version": 3
   },
   "file_extension": ".py",
   "mimetype": "text/x-python",
   "name": "python",
   "nbconvert_exporter": "python",
   "pygments_lexer": "ipython3",
   "version": "3.8.3"
  }
 },
 "nbformat": 4,
 "nbformat_minor": 4
}
