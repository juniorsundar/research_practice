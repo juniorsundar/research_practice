{
 "cells": [
  {
   "cell_type": "markdown",
   "metadata": {},
   "source": [
    "### PDF Display"
   ]
  },
  {
   "cell_type": "code",
   "execution_count": 1,
   "metadata": {},
   "outputs": [],
   "source": [
    "class PDF(object):\n",
    "  def __init__(self, pdf, size=(200,200)):\n",
    "    self.pdf = pdf\n",
    "    self.size = size\n",
    "\n",
    "  def _repr_html_(self):\n",
    "    return '<iframe src={0} width={1[0]} height={1[1]}></iframe>'.format(self.pdf, self.size)\n",
    "\n",
    "  def _repr_latex_(self):\n",
    "    return r'\\includegraphics[width=1.0\\textwidth]{{{0}}}'.format(self.pdf)"
   ]
  },
  {
   "cell_type": "markdown",
   "metadata": {},
   "source": [
    "<h1><center>Robot Swarm with Single High-Level Specification</center></h1>"
   ]
  },
  {
   "cell_type": "markdown",
   "metadata": {},
   "source": [
    "## Specification in Omega\n",
    "Following is the result of writing the specifications using the omega toolbox."
   ]
  },
  {
   "cell_type": "code",
   "execution_count": 95,
   "metadata": {},
   "outputs": [],
   "source": [
    "from omega.games import gr1\n",
    "from omega.games import enumeration as enum\n",
    "from omega.symbolic import temporal as trl\n",
    "from omega.games.enumeration import action_to_steps\n",
    "from omega.symbolic import enumeration as sym_enum\n",
    "import networkx as nx"
   ]
  },
  {
   "cell_type": "code",
   "execution_count": 96,
   "metadata": {},
   "outputs": [],
   "source": [
    "aut = trl.Automaton()\n",
    "MAX_ROOMS = 2\n",
    "aut.declare_variables(active=(1,MAX_ROOMS), \n",
    "                      known_room = (0, MAX_ROOMS), room = (-1, MAX_ROOMS), known = (0,1), goTo = (-1,MAX_ROOMS))\n",
    "aut.varlist['env']=['active']\n",
    "aut.varlist['sys']=['known_room','known','room','goTo']\n",
    "aut.prime_varlists()"
   ]
  },
  {
   "cell_type": "code",
   "execution_count": 97,
   "metadata": {},
   "outputs": [],
   "source": [
    "specs = open('specifications/high_level.txt','r')\n",
    "specs = specs.read()"
   ]
  },
  {
   "cell_type": "code",
   "execution_count": 98,
   "metadata": {},
   "outputs": [],
   "source": [
    "aut.define(specs)\n",
    "aut.init.update(\n",
    "    env='env_init',\n",
    "    sys='sys_init')\n",
    "aut.action.update(\n",
    "    env='env_action',\n",
    "    sys='sys_action')\n",
    "aut.win['<>[]'] = aut.bdds_from('TRUE')\n",
    "aut.win['[]<>'] = aut.bdds_from('TRUE')"
   ]
  },
  {
   "cell_type": "code",
   "execution_count": 99,
   "metadata": {},
   "outputs": [
    {
     "data": {
      "text/html": [
       "<iframe src=outputs/high_level.pdf width=900 height=900></iframe>"
      ],
      "text/latex": [
       "\\includegraphics[width=1.0\\textwidth]{outputs/high_level.pdf}"
      ],
      "text/plain": [
       "<__main__.PDF at 0x7fa3fae12df0>"
      ]
     },
     "execution_count": 99,
     "metadata": {},
     "output_type": "execute_result"
    }
   ],
   "source": [
    "aut.qinit = '\\E \\A'\n",
    "aut.moore = True\n",
    "aut.plus_one = True\n",
    "\n",
    "z, yij, xijk = gr1.solve_streett_game(aut)\n",
    "gr1.make_streett_transducer(z, yij, xijk, aut)\n",
    "aut.varlist['sys'].append('_goal')\n",
    "aut.prime_varlists()\n",
    "# enumerate\n",
    "g = enum.action_to_steps(aut, 'env', 'impl', qinit=aut.qinit)\n",
    "h, _ = sym_enum._format_nx(g)\n",
    "pd = nx.drawing.nx_pydot.to_pydot(h)\n",
    "pd.write_pdf('outputs/high_level.pdf')\n",
    "PDF('outputs/high_level.pdf',size=(900,900))"
   ]
  },
  {
   "cell_type": "markdown",
   "metadata": {},
   "source": [
    "## Swarm-Robot Class"
   ]
  },
  {
   "cell_type": "code",
   "execution_count": 1,
   "metadata": {},
   "outputs": [],
   "source": [
    "from numpy import array as array\n",
    "from numpy import linalg as LA\n",
    "from numpy import array_equal as equals\n",
    "\n",
    "class Robot:\n",
    "    #Edit these constants to change physical location of\n",
    "    HOME = array([0,0])      #Hive\n",
    "    ROOM1 = array([10,0])    #Forage Site 1\n",
    "    ROOM2 = array([0,10])    #Forage Site 2\n",
    "    \n",
    "    N = array([0,1])\n",
    "    E = array([1,0])\n",
    "    S = array([0,-1])\n",
    "    W = array([-1,0])\n",
    "    \n",
    "    def __init__(self, strategy, node = 0):\n",
    "        self.node = node\n",
    "        self.strategy = strategy\n",
    "        self.goTo = self.strategy._node.get(self.node)['goTo']\n",
    "        self.room = self.strategy._node.get(self.node)['room']\n",
    "        self.pos = self.HOME\n",
    "        self.known = self.strategy._node.get(self.node)['known']\n",
    "        self.known_room = self.strategy._node.get(self.node)['known_room']\n",
    "    \n",
    "    def move(self,environment):\n",
    "        self.propagate()\n",
    "        \n",
    "        cond1 = self.room == -1 and (equals(self.pos,self.HOME) or equals(self.pos,self.ROOM1) or equals(self.pos,self.ROOM2))\n",
    "        cond2 = self.room == 0 and not equals(self.pos,self.HOME)\n",
    "        cond3 = self.room == 1 and not equals(self.pos,self.ROOM1)\n",
    "        cond4 = self.room == 2 and not equals(self.pos,self.ROOM2)\n",
    "        if cond1 or cond2 or cond3 or cond4:\n",
    "            successors = list(self.strategy._succ[self.node].keys())\n",
    "            if environment == 1:\n",
    "                for suc in successors:\n",
    "                    if self.strategy._node.get(suc)['active'] == 1:\n",
    "                        self.node = suc\n",
    "            elif environment == 2:\n",
    "                for suc in successors:\n",
    "                    if self.strategy._node.get(suc)['active'] == 2:\n",
    "                        self.node = suc\n",
    "            elif environment == 0:   #set active == 0 to exit loop\n",
    "                print('exit')\n",
    "            self.goTo = self.strategy._node.get(self.node)['goTo']\n",
    "            self.room = self.strategy._node.get(self.node)['room']\n",
    "            self.known = self.strategy._node.get(self.node)['known']\n",
    "            self.known_room = self.strategy._node.get(self.node)['known_room']  \n",
    "            \n",
    "            \n",
    "    def propagate(self):\n",
    "        if self.room == -1 and self.goTo == 0:\n",
    "            if (self.HOME - self.pos)[0] > 0:\n",
    "                self.pos = self.pos + self.E\n",
    "            elif (self.HOME - self.pos)[0] < 0:\n",
    "                self.pos = self.pos + self.W\n",
    "            elif (self.HOME - self.pos)[0] == 0:\n",
    "                self.pos = self.pos\n",
    "\n",
    "            if (self.HOME - self.pos)[1] > 0:\n",
    "                self.pos = self.pos + self.N\n",
    "            elif (self.HOME - self.pos)[1] < 0:\n",
    "                self.pos = self.pos + self.S\n",
    "            elif (self.HOME - self.pos)[1] == 0:\n",
    "                self.pos = self.pos\n",
    "\n",
    "        elif self.room == -1 and self.goTo == 1:\n",
    "            if (self.ROOM1 - self.pos)[0] > 0:\n",
    "                self.pos = self.pos + self.E\n",
    "            elif (self.ROOM1 - self.pos)[0] < 0:\n",
    "                self.pos = self.pos + self.W\n",
    "            elif (self.ROOM1 - self.pos)[0] == 0:\n",
    "                self.pos = self.pos\n",
    "\n",
    "            if (self.ROOM1 - self.pos)[1] > 0:\n",
    "                self.pos = self.pos + self.N\n",
    "            elif (self.ROOM1 - self.pos)[1] < 0:\n",
    "                self.pos = self.pos + self.S\n",
    "            elif (self.ROOM1 - self.pos)[1] == 0:\n",
    "                self.pos = self.pos\n",
    "\n",
    "        elif self.room == -1 and self.goTo == 2:\n",
    "            if (self.ROOM2 - self.pos)[0] > 0:\n",
    "                self.pos = self.pos + self.E\n",
    "            elif (self.ROOM2 - self.pos)[0] < 0:\n",
    "                self.pos = self.pos + self.W\n",
    "            elif (self.ROOM2 - self.pos)[0] == 0:\n",
    "                self.pos = self.pos\n",
    "\n",
    "            if (self.ROOM2 - self.pos)[1] > 0:\n",
    "                self.pos = self.pos + self.N\n",
    "            elif (self.ROOM2 - self.pos)[1] < 0:\n",
    "                self.pos = self.pos + self.S\n",
    "            elif (self.ROOM2 - self.pos)[1] == 0:\n",
    "                self.pos = self.pos\n",
    "            \n",
    "        elif self.room == 0 or self.room == 1 or self.room == 2:\n",
    "            AVERAGE = (self.HOME + self.ROOM1 + self.ROOM2)/3\n",
    "            if (AVERAGE - self.pos)[0] > 0:\n",
    "                self.pos = self.pos + self.E\n",
    "            elif (AVERAGE - self.pos)[0] < 0:\n",
    "                self.pos = self.pos + self.W\n",
    "            elif (AVERAGE - self.pos)[0] == 0:\n",
    "                self.pos = self.pos\n",
    "\n",
    "            if (AVERAGE - self.pos)[1] > 0:\n",
    "                self.pos = self.pos + self.N\n",
    "            elif (AVERAGE - self.pos)[1] < 0:\n",
    "                self.pos = self.pos + self.S\n",
    "            elif (AVERAGE - self.pos)[1] == 0:\n",
    "                self.pos = self.pos"
   ]
  },
  {
   "cell_type": "code",
   "execution_count": null,
   "metadata": {},
   "outputs": [],
   "source": []
  },
  {
   "cell_type": "code",
   "execution_count": null,
   "metadata": {},
   "outputs": [],
   "source": []
  },
  {
   "cell_type": "code",
   "execution_count": 95,
   "metadata": {},
   "outputs": [],
   "source": [
    "from omega.games import gr1\n",
    "from omega.games import enumeration as enum\n",
    "from omega.symbolic import temporal as trl\n",
    "from omega.games.enumeration import action_to_steps\n",
    "from omega.symbolic import enumeration as sym_enum\n",
    "import networkx as nx"
   ]
  },
  {
   "cell_type": "code",
   "execution_count": 96,
   "metadata": {},
   "outputs": [],
   "source": [
    "aut = trl.Automaton()\n",
    "MAX_ROOMS = 2\n",
    "aut.declare_variables(active=(1,MAX_ROOMS), \n",
    "                      known_room = (0, MAX_ROOMS), room = (-1, MAX_ROOMS), known = (0,1), goTo = (-1,MAX_ROOMS), recruited = (0,1))\n",
    "aut.varlist['env']=['active']\n",
    "aut.varlist['sys']=['known_room','known','room','goTo','recruited']\n",
    "aut.prime_varlists()"
   ]
  },
  {
   "cell_type": "code",
   "execution_count": 97,
   "metadata": {},
   "outputs": [],
   "source": [
    "specs = open('specifications/high_level_2.txt','r')\n",
    "specs = specs.read()"
   ]
  },
  {
   "cell_type": "code",
   "execution_count": 98,
   "metadata": {},
   "outputs": [],
   "source": [
    "aut.define(specs)\n",
    "aut.init.update(\n",
    "    env='env_init',\n",
    "    sys='sys_init')\n",
    "aut.action.update(\n",
    "    env='env_action',\n",
    "    sys='sys_action')\n",
    "aut.win['<>[]'] = aut.bdds_from('TRUE')\n",
    "aut.win['[]<>'] = aut.bdds_from('TRUE')"
   ]
  },
  {
   "cell_type": "code",
   "execution_count": 99,
   "metadata": {},
   "outputs": [
    {
     "data": {
      "text/html": [
       "<iframe src=outputs/high_level.pdf width=900 height=900></iframe>"
      ],
      "text/latex": [
       "\\includegraphics[width=1.0\\textwidth]{outputs/high_level.pdf}"
      ],
      "text/plain": [
       "<__main__.PDF at 0x7fa3fae12df0>"
      ]
     },
     "execution_count": 99,
     "metadata": {},
     "output_type": "execute_result"
    }
   ],
   "source": [
    "aut.qinit = '\\E \\A'\n",
    "aut.moore = True\n",
    "aut.plus_one = True\n",
    "\n",
    "z, yij, xijk = gr1.solve_streett_game(aut)\n",
    "gr1.make_streett_transducer(z, yij, xijk, aut)\n",
    "aut.varlist['sys'].append('_goal')\n",
    "aut.prime_varlists()\n",
    "# enumerate\n",
    "g = enum.action_to_steps(aut, 'env', 'impl', qinit=aut.qinit)\n",
    "h, _ = sym_enum._format_nx(g)\n",
    "pd = nx.drawing.nx_pydot.to_pydot(h)\n",
    "pd.write_pdf('outputs/high_level_2.pdf')\n",
    "PDF('outputs/high_level_2.pdf',size=(900,900))"
   ]
  }
 ],
 "metadata": {
  "kernelspec": {
   "display_name": "Python 3.8.3 64-bit ('aria': conda)",
   "language": "python",
   "name": "python38364bitariaconda016bd46555c24daa8829e25701e572b2"
  },
  "language_info": {
   "codemirror_mode": {
    "name": "ipython",
    "version": 3
   },
   "file_extension": ".py",
   "mimetype": "text/x-python",
   "name": "python",
   "nbconvert_exporter": "python",
   "pygments_lexer": "ipython3",
   "version": "3.8.3"
  }
 },
 "nbformat": 4,
 "nbformat_minor": 4
}
